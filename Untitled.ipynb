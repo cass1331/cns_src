{
 "cells": [
  {
   "cell_type": "code",
   "execution_count": 3,
   "metadata": {},
   "outputs": [
    {
     "name": "stdout",
     "output_type": "stream",
     "text": [
      "Defaulting to user installation because normal site-packages is not writeable\n",
      "Collecting scikit-image\n",
      "  Downloading scikit_image-0.17.2-cp36-cp36m-manylinux1_x86_64.whl (12.4 MB)\n",
      "     |████████████████████████████████| 12.4 MB 13.3 MB/s            \n",
      "\u001b[?25hRequirement already satisfied: matplotlib!=3.0.0,>=2.0.0 in /home/users/jmanasse/.local/lib/python3.6/site-packages (from scikit-image) (3.3.4)\n",
      "Collecting PyWavelets>=1.1.1\n",
      "  Downloading PyWavelets-1.1.1-cp36-cp36m-manylinux1_x86_64.whl (4.4 MB)\n",
      "     |████████████████████████████████| 4.4 MB 34.6 MB/s            \n",
      "\u001b[?25hRequirement already satisfied: pillow!=7.1.0,!=7.1.1,>=4.3.0 in /home/users/jmanasse/.local/lib/python3.6/site-packages (from scikit-image) (8.4.0)\n",
      "Collecting imageio>=2.3.0\n",
      "  Downloading imageio-2.15.0-py3-none-any.whl (3.3 MB)\n",
      "     |████████████████████████████████| 3.3 MB 27.5 MB/s            \n",
      "\u001b[?25hCollecting networkx>=2.0\n",
      "  Downloading networkx-2.5.1-py3-none-any.whl (1.6 MB)\n",
      "     |████████████████████████████████| 1.6 MB 27.5 MB/s            \n",
      "\u001b[?25hRequirement already satisfied: scipy>=1.0.1 in /home/users/jmanasse/.local/lib/python3.6/site-packages (from scikit-image) (1.5.4)\n",
      "Requirement already satisfied: numpy>=1.15.1 in /home/users/jmanasse/.local/lib/python3.6/site-packages (from scikit-image) (1.19.5)\n",
      "Collecting tifffile>=2019.7.26\n",
      "  Downloading tifffile-2020.9.3-py3-none-any.whl (148 kB)\n",
      "     |████████████████████████████████| 148 kB 29.7 MB/s            \n",
      "\u001b[?25hRequirement already satisfied: pyparsing!=2.0.4,!=2.1.2,!=2.1.6,>=2.0.3 in /home/users/jmanasse/.local/lib/python3.6/site-packages (from matplotlib!=3.0.0,>=2.0.0->scikit-image) (2.4.7)\n",
      "Requirement already satisfied: kiwisolver>=1.0.1 in /home/users/jmanasse/.local/lib/python3.6/site-packages (from matplotlib!=3.0.0,>=2.0.0->scikit-image) (1.3.1)\n",
      "Requirement already satisfied: cycler>=0.10 in /home/users/jmanasse/.local/lib/python3.6/site-packages (from matplotlib!=3.0.0,>=2.0.0->scikit-image) (0.10.0)\n",
      "Requirement already satisfied: python-dateutil>=2.1 in /share/software/user/open/py-jupyter/1.0.0_py36/lib/python3.6/site-packages (from matplotlib!=3.0.0,>=2.0.0->scikit-image) (2.6.1)\n",
      "Collecting decorator<5,>=4.3\n",
      "  Downloading decorator-4.4.2-py2.py3-none-any.whl (9.2 kB)\n",
      "Requirement already satisfied: six in /share/software/user/open/py-jupyter/1.0.0_py36/lib/python3.6/site-packages (from cycler>=0.10->matplotlib!=3.0.0,>=2.0.0->scikit-image) (1.10.0)\n",
      "Installing collected packages: decorator, tifffile, PyWavelets, networkx, imageio, scikit-image\n",
      "Successfully installed PyWavelets-1.1.1 decorator-4.4.2 imageio-2.15.0 networkx-2.5.1 scikit-image-0.17.2 tifffile-2020.9.3\n"
     ]
    }
   ],
   "source": [
    "!pip install scikit-image\n",
    "!pip install torchio"
   ]
  },
  {
   "cell_type": "code",
   "execution_count": 10,
   "metadata": {},
   "outputs": [
    {
     "name": "stdout",
     "output_type": "stream",
     "text": [
      "Defaulting to user installation because normal site-packages is not writeable\n",
      "Collecting pickle5\n",
      "  Downloading pickle5-0.0.12-cp36-cp36m-manylinux_2_5_x86_64.manylinux1_x86_64.whl (259 kB)\n",
      "     |████████████████████████████████| 259 kB 18.4 MB/s            \n",
      "\u001b[?25hInstalling collected packages: pickle5\n",
      "Successfully installed pickle5-0.0.12\n"
     ]
    }
   ],
   "source": [
    "!pip3 install pickle5"
   ]
  },
  {
   "cell_type": "code",
   "execution_count": 8,
   "metadata": {
    "collapsed": true
   },
   "outputs": [],
   "source": [
    "import torch\n",
    "import matplotlib.pyplot as plt\n",
    "from model import fe\n",
    "from dataloading import MRI_Dataset\n",
    "from transformation import super_transformation\n",
    "from torch.utils.data import DataLoader\n",
    "from torch import nn\n",
    "from scipy.stats import chisquare\n",
    "from scipy.stats import pearsonr\n",
    "import numpy as np\n",
    "import math\n",
    "import seaborn as sns\n",
    "import pandas as pd\n"
   ]
  },
  {
   "cell_type": "code",
   "execution_count": 17,
   "metadata": {
    "collapsed": true
   },
   "outputs": [],
   "source": [
    "import pickle5 as pickle"
   ]
  },
  {
   "cell_type": "code",
   "execution_count": 18,
   "metadata": {},
   "outputs": [
    {
     "name": "stdout",
     "output_type": "stream",
     "text": [
      "device: cuda:0\n",
      "fold: 0\n"
     ]
    },
    {
     "ename": "ValueError",
     "evalue": "unsupported pickle protocol: 5",
     "output_type": "error",
     "traceback": [
      "\u001b[0;31m---------------------------------------------------------------------------\u001b[0m",
      "\u001b[0;31mValueError\u001b[0m                                Traceback (most recent call last)",
      "\u001b[0;32m<ipython-input-18-ecac39dc8c6b>\u001b[0m in \u001b[0;36m<module>\u001b[0;34m()\u001b[0m\n\u001b[1;32m      3\u001b[0m \u001b[0;34m\u001b[0m\u001b[0m\n\u001b[1;32m      4\u001b[0m \u001b[0mtransformation\u001b[0m \u001b[0;34m=\u001b[0m \u001b[0msuper_transformation\u001b[0m\u001b[0;34m(\u001b[0m\u001b[0;34m)\u001b[0m\u001b[0;34m\u001b[0m\u001b[0m\n\u001b[0;32m----> 5\u001b[0;31m \u001b[0mtrain_data\u001b[0m \u001b[0;34m=\u001b[0m \u001b[0mMRI_Dataset\u001b[0m\u001b[0;34m(\u001b[0m\u001b[0mfold\u001b[0m \u001b[0;34m=\u001b[0m \u001b[0;36m0\u001b[0m \u001b[0;34m,\u001b[0m \u001b[0mstage\u001b[0m\u001b[0;34m=\u001b[0m \u001b[0;34m'original_train'\u001b[0m\u001b[0;34m,\u001b[0m\u001b[0mtransform\u001b[0m \u001b[0;34m=\u001b[0m \u001b[0mtransformation\u001b[0m\u001b[0;34m)\u001b[0m\u001b[0;34m\u001b[0m\u001b[0m\n\u001b[0m\u001b[1;32m      6\u001b[0m \u001b[0;34m\u001b[0m\u001b[0m\n\u001b[1;32m      7\u001b[0m \u001b[0;34m\u001b[0m\u001b[0m\n",
      "\u001b[0;32m~/src/dataloading.py\u001b[0m in \u001b[0;36m__init__\u001b[0;34m(self, fold, stage, transform)\u001b[0m\n\u001b[1;32m     33\u001b[0m             \u001b[0mpickle_name\u001b[0m \u001b[0;34m=\u001b[0m \u001b[0;34m'/scratch/users/jmanasse/threehead/original_train_data_'\u001b[0m\u001b[0;34m+\u001b[0m\u001b[0mstr\u001b[0m\u001b[0;34m(\u001b[0m\u001b[0mfold\u001b[0m\u001b[0;34m)\u001b[0m\u001b[0;34m+\u001b[0m\u001b[0;34m'.pickle'\u001b[0m\u001b[0;34m\u001b[0m\u001b[0m\n\u001b[1;32m     34\u001b[0m             \u001b[0;32mwith\u001b[0m \u001b[0mopen\u001b[0m\u001b[0;34m(\u001b[0m\u001b[0mpickle_name\u001b[0m\u001b[0;34m,\u001b[0m \u001b[0;34m'rb'\u001b[0m\u001b[0;34m)\u001b[0m \u001b[0;32mas\u001b[0m \u001b[0mhandle\u001b[0m\u001b[0;34m:\u001b[0m\u001b[0;34m\u001b[0m\u001b[0m\n\u001b[0;32m---> 35\u001b[0;31m                 \u001b[0moriginal_train_data\u001b[0m \u001b[0;34m=\u001b[0m \u001b[0mpickle\u001b[0m\u001b[0;34m.\u001b[0m\u001b[0mload\u001b[0m\u001b[0;34m(\u001b[0m\u001b[0mhandle\u001b[0m\u001b[0;34m)\u001b[0m\u001b[0;34m\u001b[0m\u001b[0m\n\u001b[0m\u001b[1;32m     36\u001b[0m \u001b[0;34m\u001b[0m\u001b[0m\n\u001b[1;32m     37\u001b[0m             \u001b[0mpickle_name\u001b[0m \u001b[0;34m=\u001b[0m \u001b[0;34m'/scratch/users/jmanasse/threehead/original_train_label_'\u001b[0m\u001b[0;34m+\u001b[0m\u001b[0mstr\u001b[0m\u001b[0;34m(\u001b[0m\u001b[0mfold\u001b[0m\u001b[0;34m)\u001b[0m\u001b[0;34m+\u001b[0m\u001b[0;34m'.pickle'\u001b[0m\u001b[0;34m\u001b[0m\u001b[0m\n",
      "\u001b[0;31mValueError\u001b[0m: unsupported pickle protocol: 5"
     ]
    }
   ],
   "source": [
    "device = torch.device('cuda:0' if torch.cuda.is_available() else 'cpu')\n",
    "print(\"device:\",device)\n",
    "\n",
    "transformation = super_transformation()\n",
    "train_data = MRI_Dataset(fold = 0 , stage= 'original_train',transform = transformation)\n",
    "\n",
    "\n",
    "feature_extractor = fe(trainset_size = len(train_data), in_num_ch=1, img_size=(64, 64, 64), inter_num_ch=16,\n",
    "                           fc_num_ch=16, kernel_size=3, conv_act='LeakyReLU',\n",
    "                           fe_arch= 'fe1', dropout=0.2,\n",
    "                           fc_dropout = 0.2, batch_size = 1).to(device)\n",
    "\n",
    "classifier_ucsf = nn.Sequential(\n",
    "                    #nn.Linear(2048, 128),\n",
    "                    nn.Linear(256, 128),\n",
    "                    nn.LeakyReLU(),\n",
    "                    nn.Linear(128, 16),\n",
    "                    nn.LeakyReLU(),\n",
    "                    nn.Linear(16, 2)).to(device)\n",
    "\n",
    "feature_extractor.load_state_dict(torch.load('fe_weights.pt'))\n",
    "classifier_ucsf.load_state_dict(torch.load('class_weights.pt'))\n",
    "\n",
    "feature_extractor.eval()\n",
    "\n",
    "final_test_loader = DataLoader(dataset=train_data ,\n",
    "                          batch_size=1,#args.batch_size,\n",
    "                          shuffle=False,\n",
    "                          pin_memory=True,\n",
    "                          num_workers=3)"
   ]
  },
  {
   "cell_type": "code",
   "execution_count": null,
   "metadata": {
    "collapsed": true
   },
   "outputs": [],
   "source": [
    "\n",
    "with open(path_to_protocol5, \"rb\") as fh:\n",
    "  data = pickle.load(fh)"
   ]
  }
 ],
 "metadata": {
  "kernelspec": {
   "display_name": "Python 3",
   "language": "python",
   "name": "python3"
  },
  "language_info": {
   "codemirror_mode": {
    "name": "ipython",
    "version": 3
   },
   "file_extension": ".py",
   "mimetype": "text/x-python",
   "name": "python",
   "nbconvert_exporter": "python",
   "pygments_lexer": "ipython3",
   "version": "3.6.1"
  }
 },
 "nbformat": 4,
 "nbformat_minor": 2
}
